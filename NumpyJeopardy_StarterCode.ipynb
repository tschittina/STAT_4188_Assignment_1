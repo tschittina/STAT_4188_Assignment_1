{
  "cells": [
    {
      "cell_type": "markdown",
      "metadata": {
        "id": "view-in-github",
        "colab_type": "text"
      },
      "source": [
        "<a href=\"https://colab.research.google.com/github/tschittina/STAT_4188_Assignment_1/blob/main/NumpyJeopardy_StarterCode.ipynb\" target=\"_parent\"><img src=\"https://colab.research.google.com/assets/colab-badge.svg\" alt=\"Open In Colab\"/></a>"
      ]
    },
    {
      "cell_type": "code",
      "execution_count": null,
      "metadata": {
        "id": "DZxYwsKR7QQQ"
      },
      "outputs": [],
      "source": [
        "import numpy as np"
      ]
    },
    {
      "cell_type": "markdown",
      "metadata": {
        "id": "dAGh9TM-73R6",
        "tags": []
      },
      "source": [
        "# 100\n"
      ]
    },
    {
      "cell_type": "markdown",
      "metadata": {
        "id": "nQgHLOwP77Fx",
        "jp-MarkdownHeadingCollapsed": true,
        "tags": []
      },
      "source": [
        "## Open Ended"
      ]
    },
    {
      "cell_type": "code",
      "execution_count": null,
      "metadata": {
        "id": "oM_SH8b7EXvz"
      },
      "outputs": [],
      "source": [
        "x = [1,2,3,4]\n",
        "y = [5,6,7,8]\n",
        "# How many operations needed to return [6,8,10,12] with the lists x and y\n",
        "x1 = np.array(x)\n",
        "y1 = np.array(y)\n",
        "# How many operations needed to return [6,8,10,12] with the arrays x1 and y1"
      ]
    },
    {
      "cell_type": "markdown",
      "metadata": {
        "id": "ijOsMc3O77Ms",
        "jp-MarkdownHeadingCollapsed": true,
        "tags": []
      },
      "source": [
        "## Indexing/Slicing"
      ]
    },
    {
      "cell_type": "code",
      "execution_count": null,
      "metadata": {
        "id": "n8B5zsjgALew"
      },
      "outputs": [],
      "source": [
        "arr1 = np.arange(0,11,2)\n",
        "arr2 = arr1\n",
        "arr1[0] = 999999\n",
        "print('arr1: ', arr1)\n",
        "print('arr2: ', arr2)\n",
        "#why are they same and how do I change this?"
      ]
    },
    {
      "cell_type": "markdown",
      "metadata": {
        "id": "DnlIM-By77Vj",
        "jp-MarkdownHeadingCollapsed": true,
        "tags": []
      },
      "source": [
        "## Array Manipulation"
      ]
    },
    {
      "cell_type": "code",
      "execution_count": null,
      "metadata": {
        "id": "WUT3LbJT-dmK"
      },
      "outputs": [],
      "source": [
        "arr1 = np.array([1,2,3,4,5,6,7,8])\n",
        "np.reshape(arr1, (2,4))\n",
        "arr1.shape"
      ]
    },
    {
      "cell_type": "markdown",
      "metadata": {
        "id": "V5e0Yi_D77dx",
        "jp-MarkdownHeadingCollapsed": true,
        "tags": []
      },
      "source": [
        "## Math\n",
        "\n",
        "sum of first $ n $ natural numbers is $ (n*(n+1)) / 2 $"
      ]
    },
    {
      "cell_type": "code",
      "execution_count": null,
      "metadata": {
        "id": "jMMh2tfh8ioe",
        "outputId": "3067dfa2-e135-4c6c-dbf3-53f2b2628527"
      },
      "outputs": [
        {
          "name": "stdout",
          "output_type": "stream",
          "text": [
            "1784293664 ans: 500000500000.0\n"
          ]
        }
      ],
      "source": [
        "x = list(range(1, 1000001))\n",
        "x = np.array(x)\n",
        "result = np.sum(x, dtype=np.int32)\n",
        "print(result, f'ans: {1000000 * 1000001 / 2}')"
      ]
    },
    {
      "cell_type": "markdown",
      "metadata": {
        "id": "r5QMW86x77mI",
        "jp-MarkdownHeadingCollapsed": true,
        "tags": []
      },
      "source": [
        "## Miscellaneous"
      ]
    },
    {
      "cell_type": "markdown",
      "metadata": {
        "id": "NpccS9sTdLkB"
      },
      "source": [
        "No starter Code"
      ]
    },
    {
      "cell_type": "markdown",
      "metadata": {
        "id": "U3lGHuO08NUQ",
        "jp-MarkdownHeadingCollapsed": true,
        "tags": []
      },
      "source": [
        "# 200\n"
      ]
    },
    {
      "cell_type": "markdown",
      "metadata": {
        "id": "yCcNeAMiIEnv",
        "jp-MarkdownHeadingCollapsed": true,
        "tags": []
      },
      "source": [
        "## Open Ended"
      ]
    },
    {
      "cell_type": "markdown",
      "metadata": {
        "id": "9eHtMae52xac"
      },
      "source": [
        "No starter code"
      ]
    },
    {
      "cell_type": "markdown",
      "metadata": {
        "id": "-7TPKpXr8NUS",
        "jp-MarkdownHeadingCollapsed": true,
        "tags": []
      },
      "source": [
        "## Indexing/Slicing"
      ]
    },
    {
      "cell_type": "code",
      "execution_count": null,
      "metadata": {
        "id": "chaMfg5h4cA6"
      },
      "outputs": [],
      "source": [
        "from sklearn import datasets\n",
        "data = datasets.load_wine().data\n",
        "# TODO"
      ]
    },
    {
      "cell_type": "markdown",
      "metadata": {
        "id": "Vo1CoRay8NUT",
        "jp-MarkdownHeadingCollapsed": true,
        "tags": []
      },
      "source": [
        "## Array Manipulation\n",
        "\n",
        "```result``` = $\\begin{bmatrix} 39984 \\\\ 82782 \\\\ 61530 \\end{bmatrix}$"
      ]
    },
    {
      "cell_type": "code",
      "execution_count": null,
      "metadata": {
        "id": "1D3gTdquIWaL"
      },
      "outputs": [],
      "source": [
        "arr1 = np.array([2,3,4,6,7,8,8,9,10,4,7,4])\n",
        "arr2 = np.array([3,5,2,6,1,5,1,8])\n",
        "arr3 = np.array([6,3,4,6,3,2,5,12,14,3])\n",
        "arr4 = np.array([2,5,12,14,3])\n",
        "# Change the above code\n",
        "result = arr1.dot(arr2).dot(arr3).dot(arr4)\n",
        "result"
      ]
    },
    {
      "cell_type": "markdown",
      "metadata": {
        "id": "_hu3Kqp68N9B",
        "jp-MarkdownHeadingCollapsed": true,
        "tags": []
      },
      "source": [
        "## MATH\n",
        "<br>![image.png](data:image/png;base64,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)"
      ]
    },
    {
      "cell_type": "code",
      "execution_count": null,
      "metadata": {
        "id": "-WFwt0BU8pQP"
      },
      "outputs": [],
      "source": [
        "# https://www.statisticshowto.com/variance-inflation-factor/\n",
        "\n",
        "from sklearn import datasets\n",
        "iris = datasets.load_iris().data\n",
        "\n",
        "def multlinreg(X, y_obs):\n",
        "  X_t = np.transpose(X) # X.T\n",
        "  X_tX = np.dot(X_t,X)\n",
        "  X_ty = np.dot(X_t,y)\n",
        "  beta = np.linalg.inv(X_tX).dot(X_ty)\n",
        "  y_pred = np.dot(X, beta)\n",
        "  return y_obs, y_pred\n",
        "\n",
        "def r_sq(observed, pred):\n",
        "    num = np.sum((observed - pred)**2)\n",
        "    denum = np.sum((observed - np.mean(observed))**2)\n",
        "    return 1 - (num / denum)\n",
        "\n",
        "#TODO"
      ]
    },
    {
      "cell_type": "markdown",
      "metadata": {
        "id": "iWEteLev8NUU",
        "jp-MarkdownHeadingCollapsed": true,
        "tags": []
      },
      "source": [
        "## Miscellaneous"
      ]
    },
    {
      "cell_type": "code",
      "execution_count": null,
      "metadata": {
        "id": "m_oMwPb0RYyA"
      },
      "outputs": [],
      "source": [
        "import pandas as pd\n",
        "from scipy.stats import f_oneway\n",
        "data = pd.read_csv(\"https://www2.cs.arizona.edu/classes/cs120/fall17/ASSIGNMENTS/assg02/Pokemon.csv\")\n",
        "data.dropna(inplace=True)\n",
        "data.drop('#', axis=1, inplace=True)\n",
        "data.head(5)\n",
        "\n",
        "data_arr = data.values\n",
        "types = dict()\n",
        "# TODO: Mak sure that when you are subsetting the data you store the pokemon type and all the respective HP values in the dictionary \"types\"\n",
        "poke = data_arr[:, [1,4]]\n",
        "\n",
        "\n",
        "#####\n",
        "p_val = f_oneway(types['Bug'], types['Dark'], types['Dragon'], types['Electric'], types['Fairy'], types['Fighting'], types['Fire'], types['Flying'], types['Ghost'], types['Grass'], types['Ground'], types['Ice'], types['Normal'], types['Poison'], types['Psychic'], types['Rock'], types['Steel'], types['Water'])[1]\n",
        "print(f\"The p-value is {p_val}, is this string ecidence againest the null hyp at a 0.05 significance level?\")"
      ]
    },
    {
      "cell_type": "markdown",
      "metadata": {
        "id": "FynIFzZ18N8-",
        "jp-MarkdownHeadingCollapsed": true,
        "tags": []
      },
      "source": [
        "# 300\n"
      ]
    },
    {
      "cell_type": "markdown",
      "metadata": {
        "id": "efe6OTZW8N8_",
        "jp-MarkdownHeadingCollapsed": true,
        "tags": []
      },
      "source": [
        "## Open ended"
      ]
    },
    {
      "cell_type": "markdown",
      "metadata": {
        "id": "8C9hlx0yj_bf"
      },
      "source": [
        "No starter Code"
      ]
    },
    {
      "cell_type": "markdown",
      "metadata": {
        "id": "pf7AUw3p8N9A",
        "jp-MarkdownHeadingCollapsed": true,
        "tags": []
      },
      "source": [
        "## Indexing/Slicing"
      ]
    },
    {
      "cell_type": "code",
      "execution_count": null,
      "metadata": {
        "id": "-JpOvVnR8lqH"
      },
      "outputs": [],
      "source": [
        "# missing values\n",
        "from sklearn import datasets\n",
        "np.random.seed(10)\n",
        "data = datasets.load_breast_cancer().data\n",
        "randarr = np.random.rand(data.shape[0], data.shape[1])\n",
        "for i in range(0, data.shape[1]):\n",
        "  np.random.seed(i*22)\n",
        "  data[:, i][randarr[:, i] > np.random.rand()] = np.nan\n",
        "#TODO"
      ]
    },
    {
      "cell_type": "markdown",
      "metadata": {
        "id": "ckRvWROF8N9A",
        "jp-MarkdownHeadingCollapsed": true,
        "tags": []
      },
      "source": [
        "## Array Manipulation"
      ]
    },
    {
      "cell_type": "code",
      "execution_count": null,
      "metadata": {
        "id": "r8bgMuvmbSas"
      },
      "outputs": [],
      "source": [
        "import cv2\n",
        "import urllib\n",
        "from google.colab.patches import cv2_imshow\n",
        "import matplotlib.pyplot as plt\n",
        "url = \"https://encrypted-tbn0.gstatic.com/images?q=tbn:ANd9GcRQJ6alPBFwUWAEUFTyC0ZxOzxKn3WS8cQrLA&usqp=CAU\"\n",
        "req = urllib.request.urlopen(url)\n",
        "arr = np.asarray(bytearray(req.read()), dtype=np.uint8)\n",
        "img = cv2.imdecode(arr, -1) # 'Load it as it is'\n",
        "img = cv2.cvtColor(img, cv2.COLOR_BGR2GRAY)\n",
        "plt.imshow(img, cmap='gray')\n",
        "#TODO, NOTE: img is a numpy array!"
      ]
    },
    {
      "cell_type": "markdown",
      "metadata": {
        "id": "99f91r3-TpMN",
        "jp-MarkdownHeadingCollapsed": true,
        "tags": []
      },
      "source": [
        "## Math\n",
        "\n",
        "![image.png](data:image/png;base64,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)\n",
        "\n",
        "![image.png](data:image/png;base64,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)"
      ]
    },
    {
      "cell_type": "code",
      "execution_count": null,
      "metadata": {
        "id": "ag-2gXf4VBgs"
      },
      "outputs": [],
      "source": [
        "np.random.seed(5)\n",
        "y_obs = np.random.rand(100)\n",
        "y_test = np.random.rand(100)\n",
        "y_obs[y_obs > 0.6] = 1\n",
        "y_obs[y_obs <= 0.6] = 0\n",
        "y_test[y_test > 0.3] = 1\n",
        "y_test[y_test <= 0.3] = 0\n",
        "#TODO"
      ]
    },
    {
      "cell_type": "markdown",
      "metadata": {
        "id": "JazxXGz78N9B",
        "jp-MarkdownHeadingCollapsed": true,
        "tags": []
      },
      "source": [
        "## Miscellaneous"
      ]
    },
    {
      "cell_type": "code",
      "execution_count": null,
      "metadata": {
        "id": "qX1oY5qb8N9C"
      },
      "outputs": [],
      "source": [
        "arr1 = np.array(\n",
        "    [\n",
        "        [1,2,3],\n",
        "        [4,5,6]\n",
        "    ]\n",
        ")\n",
        "\n",
        "arr2 = np.array(\n",
        "    [\n",
        "        [7,8],\n",
        "        [9,10],\n",
        "        [11,12]\n",
        "    ]\n",
        ")\n",
        "#TODO\n",
        "def dot_mul(mat1, mat2):\n",
        "  pass"
      ]
    },
    {
      "cell_type": "markdown",
      "metadata": {
        "id": "zJoZkEde8Ofm",
        "jp-MarkdownHeadingCollapsed": true,
        "tags": []
      },
      "source": [
        "# 400\n"
      ]
    },
    {
      "cell_type": "markdown",
      "metadata": {
        "id": "0_x9Otes8Ofm",
        "jp-MarkdownHeadingCollapsed": true,
        "tags": []
      },
      "source": [
        "## Open Ended"
      ]
    },
    {
      "cell_type": "markdown",
      "metadata": {
        "id": "qe-09abOqiKz"
      },
      "source": [
        "No starter code"
      ]
    },
    {
      "cell_type": "markdown",
      "metadata": {
        "id": "EEerc5TP8Ofn",
        "jp-MarkdownHeadingCollapsed": true,
        "tags": []
      },
      "source": [
        "## Indexing/Slicing"
      ]
    },
    {
      "cell_type": "code",
      "execution_count": null,
      "metadata": {
        "id": "od_O4kv0Bdg7"
      },
      "outputs": [],
      "source": [
        "from sklearn import datasets\n",
        "np.random.seed(11)\n",
        "data = datasets.load_linnerud().data\n",
        "randarr = np.random.rand(data.shape[0], data.shape[1])\n",
        "for i in range(0, data.shape[1]):\n",
        "  np.random.seed(i*22)\n",
        "  data[:, i][randarr[:, i] > np.random.rand()] = np.nan\n",
        "#TODO"
      ]
    },
    {
      "cell_type": "markdown",
      "metadata": {
        "id": "YeJRM7EY8Ofo",
        "jp-MarkdownHeadingCollapsed": true,
        "tags": []
      },
      "source": [
        "## Array Manipulation"
      ]
    },
    {
      "cell_type": "code",
      "execution_count": null,
      "metadata": {
        "id": "_OVNqodnJAql"
      },
      "outputs": [],
      "source": [
        "from sklearn.datasets import fetch_california_housing\n",
        "data = fetch_california_housing().data\n",
        "np.random.seed(100)\n",
        "randarr = np.random.rand(data.shape[0], data.shape[1])\n",
        "for i in range(0, data.shape[1]):\n",
        "  np.random.seed(i*22)\n",
        "  data[:, i][randarr[:, i] < (np.random.rand() / 100)] = np.nan\n",
        "#TODO"
      ]
    },
    {
      "cell_type": "markdown",
      "metadata": {
        "id": "kWMtc2ce8Ofo",
        "jp-MarkdownHeadingCollapsed": true,
        "tags": []
      },
      "source": [
        "## Math\n",
        "\n",
        "![image.png](data:image/png;base64,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)"
      ]
    },
    {
      "cell_type": "code",
      "execution_count": null,
      "metadata": {
        "id": "ACQfVH72YjEp"
      },
      "outputs": [],
      "source": [
        "#NOTE that in the above equation x1 and x2 refer to the avg of x1 and y1 below.\n",
        "np.random.seed(1)\n",
        "x1 = np.random.rand(50) * 50\n",
        "np.random.seed(2)\n",
        "x2 = np.random.rand(50) * 48\n",
        "#TODO"
      ]
    },
    {
      "cell_type": "markdown",
      "metadata": {
        "id": "H3163yzW8Ofp",
        "jp-MarkdownHeadingCollapsed": true,
        "tags": []
      },
      "source": [
        "## Miscellaneous"
      ]
    },
    {
      "cell_type": "markdown",
      "metadata": {
        "id": "X3NvMIdYsMYi"
      },
      "source": [
        "No starter code"
      ]
    }
  ],
  "metadata": {
    "colab": {
      "collapsed_sections": [
        "U3lGHuO08NUQ"
      ],
      "provenance": [],
      "include_colab_link": true
    },
    "kernelspec": {
      "display_name": "Python 3",
      "language": "python",
      "name": "python3"
    },
    "language_info": {
      "codemirror_mode": {
        "name": "ipython",
        "version": 3
      },
      "file_extension": ".py",
      "mimetype": "text/x-python",
      "name": "python",
      "nbconvert_exporter": "python",
      "pygments_lexer": "ipython3",
      "version": "3.12.4"
    }
  },
  "nbformat": 4,
  "nbformat_minor": 0
}